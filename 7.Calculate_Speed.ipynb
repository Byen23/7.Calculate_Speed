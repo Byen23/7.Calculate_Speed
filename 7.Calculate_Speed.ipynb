{
 "cells": [
  {
   "cell_type": "code",
   "execution_count": 1,
   "metadata": {
    "ExecuteTime": {
     "end_time": "2019-01-11T10:34:06.935750Z",
     "start_time": "2019-01-11T10:34:06.922730Z"
    }
   },
   "outputs": [
    {
     "name": "stdout",
     "output_type": "stream",
     "text": [
      "The speed in kilometers per hour is: 75.0\n",
      "The speed in miles per hour is: 46.875\n",
      "The speed in meters per second is: 20.833333333333332\n"
     ]
    }
   ],
   "source": [
    "# -*- coding: utf-8 -*-\n",
    "\"\"\"\n",
    "Created on Fri Jan 11 01:28:18 2019\n",
    "\n",
    "@author: Byen23\n",
    "\"\"\"\n",
    "\n",
    "# 7th Program to be uploaded to github\n",
    "\n",
    "\"\"\"Using Variables and Assign Statements\"\"\"\n",
    "\n",
    "'''Write a script that will use distance in kilometers and time in hours to calculate and print out speed in kilometers per hour, miles per hour, and meters per second.'''\n",
    "\n",
    "'''The formula for calculating speed is distance/time = speed.\n",
    "\tTo convert kilometers to miles, divide the kilometers by \t     \t1.6.\n",
    "\tTo convert kilometers to meters, multiply the kilometers by \t\t1,000.\n",
    "\tTo convert hours to seconds, multiply hours by 3,600.'''\n",
    "\t\n",
    "\n",
    "distance_in_km = 150\n",
    "time_in_hours = 2\n",
    "\n",
    "distance_in_mi = distance_in_km / 1.6\n",
    "distance_in_mtrs = distance_in_km * 1000\n",
    "\n",
    "time_in_seconds = time_in_hours * 3600\n",
    "\n",
    "speed_in_kph = distance_in_km / time_in_hours\n",
    "speed_in_mph = distance_in_mi / time_in_hours\n",
    "speed_in_mps = distance_in_mtrs / time_in_seconds\n",
    "\n",
    "print(\"The speed in kilometers per hour is:\", speed_in_kph)\n",
    "print(\"The speed in miles per hour is:\", speed_in_mph)\n",
    "print(\"The speed in meters per second is:\", speed_in_mps)\n",
    "\n"
   ]
  }
 ],
 "metadata": {
  "kernelspec": {
   "display_name": "Python 3",
   "language": "python",
   "name": "python3"
  },
  "language_info": {
   "codemirror_mode": {
    "name": "ipython",
    "version": 3
   },
   "file_extension": ".py",
   "mimetype": "text/x-python",
   "name": "python",
   "nbconvert_exporter": "python",
   "pygments_lexer": "ipython3",
   "version": "3.6.7"
  }
 },
 "nbformat": 4,
 "nbformat_minor": 2
}
